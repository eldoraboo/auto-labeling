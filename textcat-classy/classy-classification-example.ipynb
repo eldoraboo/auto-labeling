{
 "cells": [
  {
   "cell_type": "code",
   "execution_count": 4,
   "source": [
    "import spacy\n",
    "import classy_classification\n",
    "import csv\n",
    "import pandas as pd\n",
    "from pathlib import Path"
   ],
   "outputs": [],
   "metadata": {}
  },
  {
   "cell_type": "code",
   "execution_count": 5,
   "source": [
    "df = pd.read_csv(\"train.csv\")\n",
    "data = {}\n",
    "sample_size = 10\n",
    "\n",
    "candidate_labels = df['Level 3'].unique().tolist()\n",
    "\n",
    "for label in candidate_labels:\n",
    "    candidate_values = df.query(f\"`Level 3` == '{label}'\").sample(n=sample_size)['BusinessDesc'].values.tolist()\n",
    "    data[label] = candidate_values"
   ],
   "outputs": [],
   "metadata": {}
  },
  {
   "cell_type": "code",
   "execution_count": 6,
   "source": [
    "nlp = spacy.blank(\"en\")\n",
    "nlp.add_pipe(\n",
    "    \"text_categorizer\",\n",
    "    config={\n",
    "        \"data\": data,\n",
    "        \"model\": \"sentence-transformers/all-mpnet-base-v2\",\n",
    "        \"device\": \"gpu\"\n",
    "    }\n",
    ")"
   ],
   "outputs": [
    {
     "output_type": "stream",
     "name": "stderr",
     "text": [
      "WARNING: The shape inference of prim::Constant type is missing, so it may result in wrong shape inference for the exported graph. Please consider adding it in symbolic function.\n",
      "WARNING: The shape inference of prim::Constant type is missing, so it may result in wrong shape inference for the exported graph. Please consider adding it in symbolic function.\n",
      "WARNING: The shape inference of prim::Constant type is missing, so it may result in wrong shape inference for the exported graph. Please consider adding it in symbolic function.\n"
     ]
    },
    {
     "output_type": "stream",
     "name": "stdout",
     "text": [
      "Ignore MatMul due to non constant B: /[MatMul_215]\n",
      "Ignore MatMul due to non constant B: /[MatMul_221]\n",
      "Ignore MatMul due to non constant B: /[MatMul_310]\n",
      "Ignore MatMul due to non constant B: /[MatMul_316]\n",
      "Ignore MatMul due to non constant B: /[MatMul_405]\n",
      "Ignore MatMul due to non constant B: /[MatMul_411]\n",
      "Ignore MatMul due to non constant B: /[MatMul_500]\n",
      "Ignore MatMul due to non constant B: /[MatMul_506]\n",
      "Ignore MatMul due to non constant B: /[MatMul_595]\n",
      "Ignore MatMul due to non constant B: /[MatMul_601]\n",
      "Ignore MatMul due to non constant B: /[MatMul_690]\n",
      "Ignore MatMul due to non constant B: /[MatMul_696]\n",
      "Ignore MatMul due to non constant B: /[MatMul_785]\n",
      "Ignore MatMul due to non constant B: /[MatMul_791]\n",
      "Ignore MatMul due to non constant B: /[MatMul_880]\n",
      "Ignore MatMul due to non constant B: /[MatMul_886]\n",
      "Ignore MatMul due to non constant B: /[MatMul_975]\n",
      "Ignore MatMul due to non constant B: /[MatMul_981]\n",
      "Ignore MatMul due to non constant B: /[MatMul_1070]\n",
      "Ignore MatMul due to non constant B: /[MatMul_1076]\n",
      "Ignore MatMul due to non constant B: /[MatMul_1165]\n",
      "Ignore MatMul due to non constant B: /[MatMul_1171]\n",
      "Ignore MatMul due to non constant B: /[MatMul_1260]\n",
      "Ignore MatMul due to non constant B: /[MatMul_1266]\n"
     ]
    },
    {
     "output_type": "execute_result",
     "data": {
      "text/plain": [
       "<classy_classification.classifiers.spacy_few_shot_external.classySpacyFewShotExternal at 0x7fab28121850>"
      ]
     },
     "metadata": {},
     "execution_count": 6
    }
   ],
   "metadata": {}
  },
  {
   "cell_type": "code",
   "execution_count": 7,
   "source": [
    "nlp.to_disk(Path('model/'))\n",
    "print(\"Saved model\")"
   ],
   "outputs": [
    {
     "output_type": "stream",
     "name": "stdout",
     "text": [
      "Saved model\n"
     ]
    }
   ],
   "metadata": {}
  },
  {
   "cell_type": "code",
   "execution_count": 23,
   "source": [
    "reader = csv.DictReader(open('test.csv'))\n",
    "\n",
    "for row in reader:\n",
    "    doc = row['BusinessDesc']\n",
    "    categories = nlp(doc)._.cats\n",
    "    max_category = max(categories, key=categories.get)\n",
    "    print(f\"\\033[97m{doc}\")\n",
    "    print(f\"\\033[94mClass: \\033[92m{max_category}\")\n",
    "    print()"
   ],
   "outputs": [
    {
     "output_type": "stream",
     "name": "stdout",
     "text": [
      "\u001b[97mFertiglobe plc produces and distributes nitrogen fertilizers. The company offers ammonia used as a building block for other fertilizer products to industrial and agricultural customers; urea for agricultural and industrial customers; and diesel exhaust fluids for industrial customers. It operates in Europe, North America, South America, the Middle East, Africa, Asia, and Oceania. The company was incorporated in 2019 and is headquartered in Abu Dhabi, the United Arab Emirates.\n",
      "\u001b[94mClass: \u001b[92mChemicals\n",
      "\n",
      "\u001b[97mTuchkovskiy complex of construction materials manufactures and sells building materials for enterprises of construction industry and road construction organizations in Russia. It primarily offers construction sand, crushed stone, concrete, mortar, and road plates. The company also delivers its products by railway and road; and provides transshipment of goods from wagons to motor vehicles and vice versa. In addition, it rents warehouse premises, office spaces, and repair boxes; and leases special equipment, such as bulldozers, excavators, loaders, and dump trucks. The company was founded in 1913 and is based in Moscow, Russia.\n",
      "\u001b[94mClass: \u001b[92mConstruction Materials\n",
      "\n",
      "\u001b[97mTan Phu Plastic Joint Stock Company manufactures and sells various plastic products in Vietnam. It offers shelves and baskets, garbage containers, utility products, food containers, clothes hangers, food wraps/ bags, and imported cups and lunchboxes, as well as products for mommy and baby. The company also provides bottles for use in food and water, cosmetic, protecting plant and chemical, and pharmaceutical packings; and industrial and household plastic products covering aviation products, plastic boxes, plastic car battery shells, plastic containers, plastic cans, gas cylinder covers, construction plastic products, and medical waste bins. It also exports its products. Tan Phu Plastic Joint Stock Company was founded in 1975 and is headquartered in Ho Chi Minh City, Vietnam.\n",
      "\u001b[94mClass: \u001b[92mContainers and Packaging\n",
      "\n",
      "\u001b[97mSumma Silver Corp. engages in the gold and silver exploration business. The company holds a 100% interest in the Hughes Property consisting of 57 patented mining claims and 103 un-patented mining claims with an area of 2,547 acres located in central Nevada. It also has an option to earn a 100% interest in the Mogollon Property located in New Mexico. The company was formerly known as Pinnacle North Gold Corp. and changed its name to Summa Silver Corp. in April 2020. Summa Silver Corp. was incorporated in 2018 and is headquartered in Vancouver, Canada.\n",
      "\u001b[94mClass: \u001b[92mMetals and Mining\n",
      "\n",
      "\u001b[97mMohit Paper Mills Limited manufactures and sells writing, printing, and poster papers in India. The company offers various grades of writing and printing paper based on bagasse/agro waste; and newsprint paper with waste paper, as well as tissue papers. It also produces and sells soda ash. The company was incorporated in 1992 and is based in New Delhi, India.\n",
      "\u001b[94mClass: \u001b[92mPaper and Forest Products\n",
      "\n"
     ]
    }
   ],
   "metadata": {}
  }
 ],
 "metadata": {
  "orig_nbformat": 4,
  "language_info": {
   "name": "python",
   "version": "3.9.5",
   "mimetype": "text/x-python",
   "codemirror_mode": {
    "name": "ipython",
    "version": 3
   },
   "pygments_lexer": "ipython3",
   "nbconvert_exporter": "python",
   "file_extension": ".py"
  },
  "kernelspec": {
   "name": "python3",
   "display_name": "Python 3.9.5 64-bit"
  },
  "interpreter": {
   "hash": "397704579725e15f5c7cb49fe5f0341eb7531c82d19f2c29d197e8b64ab5776b"
  }
 },
 "nbformat": 4,
 "nbformat_minor": 2
}